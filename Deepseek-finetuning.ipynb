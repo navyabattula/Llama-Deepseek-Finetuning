{
  "cells": [
    {
      "cell_type": "code",
      "execution_count": 2,
      "metadata": {
        "colab": {
          "base_uri": "https://localhost:8080/"
        },
        "id": "IxKAuA28J84k",
        "outputId": "d3a1224e-ff28-4e27-977a-817176afa2b5"
      },
      "outputs": [
        {
          "name": "stdout",
          "output_type": "stream",
          "text": [
            "\u001b[2K   \u001b[90m━━━━━━━━━━━━━━━━━━━━━━━━━━━━━━━━━━━━━━━━\u001b[0m \u001b[32m485.4/485.4 kB\u001b[0m \u001b[31m9.6 MB/s\u001b[0m eta \u001b[36m0:00:00\u001b[0m\n",
            "\u001b[2K   \u001b[90m━━━━━━━━━━━━━━━━━━━━━━━━━━━━━━━━━━━━━━━━\u001b[0m \u001b[32m76.1/76.1 MB\u001b[0m \u001b[31m28.8 MB/s\u001b[0m eta \u001b[36m0:00:00\u001b[0m\n",
            "\u001b[2K   \u001b[90m━━━━━━━━━━━━━━━━━━━━━━━━━━━━━━━━━━━━━━━━\u001b[0m \u001b[32m116.3/116.3 kB\u001b[0m \u001b[31m5.1 MB/s\u001b[0m eta \u001b[36m0:00:00\u001b[0m\n",
            "\u001b[2K   \u001b[90m━━━━━━━━━━━━━━━━━━━━━━━━━━━━━━━━━━━━━━━━\u001b[0m \u001b[32m143.5/143.5 kB\u001b[0m \u001b[31m9.4 MB/s\u001b[0m eta \u001b[36m0:00:00\u001b[0m\n",
            "\u001b[2K   \u001b[90m━━━━━━━━━━━━━━━━━━━━━━━━━━━━━━━━━━━━━━━━\u001b[0m \u001b[32m363.4/363.4 MB\u001b[0m \u001b[31m3.0 MB/s\u001b[0m eta \u001b[36m0:00:00\u001b[0m\n",
            "\u001b[2K   \u001b[90m━━━━━━━━━━━━━━━━━━━━━━━━━━━━━━━━━━━━━━━━\u001b[0m \u001b[32m13.8/13.8 MB\u001b[0m \u001b[31m107.0 MB/s\u001b[0m eta \u001b[36m0:00:00\u001b[0m\n",
            "\u001b[2K   \u001b[90m━━━━━━━━━━━━━━━━━━━━━━━━━━━━━━━━━━━━━━━━\u001b[0m \u001b[32m24.6/24.6 MB\u001b[0m \u001b[31m86.2 MB/s\u001b[0m eta \u001b[36m0:00:00\u001b[0m\n",
            "\u001b[2K   \u001b[90m━━━━━━━━━━━━━━━━━━━━━━━━━━━━━━━━━━━━━━━━\u001b[0m \u001b[32m883.7/883.7 kB\u001b[0m \u001b[31m57.8 MB/s\u001b[0m eta \u001b[36m0:00:00\u001b[0m\n",
            "\u001b[2K   \u001b[90m━━━━━━━━━━━━━━━━━━━━━━━━━━━━━━━━━━━━━━━━\u001b[0m \u001b[32m664.8/664.8 MB\u001b[0m \u001b[31m1.9 MB/s\u001b[0m eta \u001b[36m0:00:00\u001b[0m\n",
            "\u001b[2K   \u001b[90m━━━━━━━━━━━━━━━━━━━━━━━━━━━━━━━━━━━━━━━━\u001b[0m \u001b[32m211.5/211.5 MB\u001b[0m \u001b[31m10.2 MB/s\u001b[0m eta \u001b[36m0:00:00\u001b[0m\n",
            "\u001b[2K   \u001b[90m━━━━━━━━━━━━━━━━━━━━━━━━━━━━━━━━━━━━━━━━\u001b[0m \u001b[32m56.3/56.3 MB\u001b[0m \u001b[31m14.5 MB/s\u001b[0m eta \u001b[36m0:00:00\u001b[0m\n",
            "\u001b[2K   \u001b[90m━━━━━━━━━━━━━━━━━━━━━━━━━━━━━━━━━━━━━━━━\u001b[0m \u001b[32m127.9/127.9 MB\u001b[0m \u001b[31m16.3 MB/s\u001b[0m eta \u001b[36m0:00:00\u001b[0m\n",
            "\u001b[2K   \u001b[90m━━━━━━━━━━━━━━━━━━━━━━━━━━━━━━━━━━━━━━━━\u001b[0m \u001b[32m207.5/207.5 MB\u001b[0m \u001b[31m3.7 MB/s\u001b[0m eta \u001b[36m0:00:00\u001b[0m\n",
            "\u001b[2K   \u001b[90m━━━━━━━━━━━━━━━━━━━━━━━━━━━━━━━━━━━━━━━━\u001b[0m \u001b[32m21.1/21.1 MB\u001b[0m \u001b[31m94.5 MB/s\u001b[0m eta \u001b[36m0:00:00\u001b[0m\n",
            "\u001b[2K   \u001b[90m━━━━━━━━━━━━━━━━━━━━━━━━━━━━━━━━━━━━━━━━\u001b[0m \u001b[32m194.8/194.8 kB\u001b[0m \u001b[31m16.1 MB/s\u001b[0m eta \u001b[36m0:00:00\u001b[0m\n",
            "\u001b[?25h"
          ]
        }
      ],
      "source": [
        "!pip install -q transformers datasets accelerate peft bitsandbytes sentencepiece scikit-learn"
      ]
    },
    {
      "cell_type": "code",
      "execution_count": 3,
      "metadata": {
        "id": "LAOuURKMMp8C"
      },
      "outputs": [],
      "source": [
        "import os\n",
        "import torch\n",
        "import numpy as np\n",
        "from datasets import load_dataset\n",
        "from transformers import (\n",
        "    AutoModelForCausalLM,\n",
        "    AutoTokenizer,\n",
        "    BitsAndBytesConfig,\n",
        "    TrainingArguments,\n",
        "    Trainer,\n",
        "    DataCollatorForLanguageModeling\n",
        ")\n",
        "from peft import (\n",
        "    LoraConfig,\n",
        "    get_peft_model,\n",
        "    prepare_model_for_kbit_training,\n",
        "    TaskType\n",
        ")\n",
        "from sklearn.metrics import precision_recall_fscore_support, classification_report, f1_score"
      ]
    },
    {
      "cell_type": "code",
      "execution_count": 4,
      "metadata": {
        "id": "T0genUu4Mt2q"
      },
      "outputs": [],
      "source": [
        "os.environ[\"PYTORCH_CUDA_ALLOC_CONF\"] = \"expandable_segments:True,max_split_size_mb:128\"\n",
        "torch.backends.cudnn.benchmark = False\n",
        "torch.backends.cudnn.deterministic = True"
      ]
    },
    {
      "cell_type": "code",
      "execution_count": 5,
      "metadata": {
        "id": "7_ZBjwadMt-P"
      },
      "outputs": [],
      "source": [
        "def optimize_memory():\n",
        "    \"\"\"\n",
        "    Optimize GPU memory and provide memory utilization tracking\n",
        "    \"\"\"\n",
        "    # Clear CUDA cache\n",
        "    torch.cuda.empty_cache()\n",
        "    torch.cuda.reset_peak_memory_stats()\n",
        "\n",
        "    # Set lower precision for reduced memory footprint\n",
        "    torch.set_float32_matmul_precision('medium')\n",
        "\n",
        "    \n",
        "    def print_gpu_utilization():\n",
        "        try:\n",
        "            import pynvml\n",
        "            pynvml.nvmlInit()\n",
        "\n",
        "            try:\n",
        "                handle = pynvml.nvmlDeviceGetHandleByIndex(0)\n",
        "                info = pynvml.nvmlDeviceGetMemoryInfo(handle)\n",
        "\n",
        "                print(f\"GPU Total Memory: {info.total / 1024**2:.2f} MB\")\n",
        "                print(f\"GPU Used Memory: {info.used / 1024**2:.2f} MB\")\n",
        "                print(f\"GPU Free Memory: {info.free / 1024**2:.2f} MB\")\n",
        "\n",
        "            except Exception as device_error:\n",
        "                print(f\"Error getting GPU memory info: {device_error}\")\n",
        "\n",
        "            finally:\n",
        "                pynvml.nvmlShutdown()\n",
        "\n",
        "        except ImportError:\n",
        "            print(\"NVML not available. Using PyTorch memory tracking.\")\n",
        "            print(f\"Allocated GPU Memory: {torch.cuda.memory_allocated() / 1024**2:.2f} MB\")\n",
        "            print(f\"Cached GPU Memory: {torch.cuda.memory_reserved() / 1024**2:.2f} MB\")\n",
        "\n",
        "    # Print GPU utilization\n",
        "    print_gpu_utilization()\n"
      ]
    },
    {
      "cell_type": "code",
      "execution_count": 6,
      "metadata": {
        "id": "_UIz1k4_MuII"
      },
      "outputs": [],
      "source": [
        "def load_model_with_minimal_memory(model_id):\n",
        "    \"\"\"\n",
        "    Load model with memory-efficient configuration\n",
        "    \"\"\"\n",
        "    bnb_config = BitsAndBytesConfig(\n",
        "        load_in_4bit=True,\n",
        "        bnb_4bit_quant_type=\"nf4\",\n",
        "        bnb_4bit_compute_dtype=torch.bfloat16,\n",
        "        bnb_4bit_use_double_quant=True,\n",
        "    )\n",
        "\n",
        "    try:\n",
        "        model = AutoModelForCausalLM.from_pretrained(\n",
        "            model_id,\n",
        "            quantization_config=bnb_config,\n",
        "            device_map=\"auto\",  # Intelligent device mapping\n",
        "            torch_dtype=torch.bfloat16,\n",
        "            low_cpu_mem_usage=True,\n",
        "            use_cache=False\n",
        "        )\n",
        "    except Exception as e:\n",
        "        print(f\"Error loading model with Flash Attention: {e}\")\n",
        "        model = AutoModelForCausalLM.from_pretrained(\n",
        "            model_id,\n",
        "            quantization_config=bnb_config,\n",
        "            device_map=\"auto\",\n",
        "            torch_dtype=torch.bfloat16,\n",
        "            low_cpu_mem_usage=True,\n",
        "            use_cache=False\n",
        "        )\n",
        "\n",
        "    return model"
      ]
    },
    {
      "cell_type": "code",
      "execution_count": 7,
      "metadata": {
        "id": "5LkUBS5gMuNM"
      },
      "outputs": [],
      "source": [
        "def create_efficient_tokenizer(model_id):\n",
        "    \"\"\"\n",
        "    Create memory-efficient tokenizer\n",
        "    \"\"\"\n",
        "    tokenizer = AutoTokenizer.from_pretrained(\n",
        "        model_id,\n",
        "        use_fast=True,\n",
        "        add_eos_token=True,\n",
        "        add_bos_token=True\n",
        "    )\n",
        "\n",
        "    tokenizer.pad_token = tokenizer.eos_token\n",
        "    tokenizer.padding_side = \"right\"\n",
        "\n",
        "    return tokenizer\n"
      ]
    },
    {
      "cell_type": "code",
      "execution_count": 8,
      "metadata": {
        "id": "kFLdARk-MuVh"
      },
      "outputs": [],
      "source": [
        "def prepare_dataset(dataset, tokenizer, max_length=512):\n",
        "    \"\"\"\n",
        "    Prepare and tokenize dataset efficiently\n",
        "    \"\"\"\n",
        "    def tokenize_function(examples):\n",
        "        prompts = [\n",
        "            f\"Sentiment Analysis Task: Classify the sentiment of the following movie review.\\n\\nReview: {text}\\n\\nSentiment (0=Negative, 1=Positive):\"\n",
        "            for text in examples['text']\n",
        "        ]\n",
        "\n",
        "        tokenized_inputs = tokenizer(\n",
        "            prompts,\n",
        "            truncation=True,\n",
        "            padding='max_length',\n",
        "            max_length=max_length,\n",
        "            return_tensors='pt'\n",
        "        )\n",
        "\n",
        "        tokenized_inputs['labels'] = torch.tensor(examples['label'])\n",
        "\n",
        "        return tokenized_inputs\n",
        "\n",
        "    dataset = dataset.shuffle(seed=42)\n",
        "    tokenized_dataset = dataset.map(\n",
        "        tokenize_function,\n",
        "        batched=True,\n",
        "        remove_columns=dataset.column_names,\n",
        "        num_proc=4\n",
        "    )\n",
        "    return tokenized_dataset"
      ]
    },
    {
      "cell_type": "code",
      "execution_count": 15,
      "metadata": {
        "id": "JlQXSvvjMuc-"
      },
      "outputs": [],
      "source": [
        "\n",
        "def create_memory_optimized_training_args():\n",
        "    \"\"\"\n",
        "    Create training arguments with memory optimization\n",
        "    \"\"\"\n",
        "    return TrainingArguments(\n",
        "        output_dir=\"./deepseek_imdb_finetune\",\n",
        "\n",
        "        per_device_train_batch_size=1,\n",
        "        gradient_accumulation_steps=16,\n",
        "        gradient_checkpointing=True,\n",
        "\n",
        "        learning_rate=1e-4,\n",
        "        weight_decay=0.01,\n",
        "\n",
        "        max_grad_norm=0.3,\n",
        "        max_steps=200,\n",
        "        num_train_epochs=1,\n",
        "\n",
        "        fp16=True,\n",
        "        optim=\"adamw_torch_fused\",\n",
        "\n",
        "        logging_dir=\"./logs\",\n",
        "        logging_steps=10,\n",
        "\n",
        "        evaluation_strategy=\"epoch\",\n",
        "        eval_steps=50,\n",
        "        save_strategy=\"epoch\",\n",
        "\n",
        "        save_total_limit=3,\n",
        "        load_best_model_at_end=True,\n",
        "        metric_for_best_model=\"eval_loss\",\n",
        "\n",
        "        dataloader_num_workers=4,\n",
        "        dataloader_prefetch_factor=2,\n",
        "    )"
      ]
    },
    {
      "cell_type": "code",
      "execution_count": 16,
      "metadata": {
        "id": "_FxNz1zYMugw"
      },
      "outputs": [],
      "source": [
        "def train_deepseek_on_imdb():\n",
        "    optimize_memory()\n",
        "\n",
        "    MODEL_ID = \"deepseek-ai/deepseek-llm-7b-base\"\n",
        "    model = load_model_with_minimal_memory(MODEL_ID)\n",
        "    tokenizer = create_efficient_tokenizer(MODEL_ID)\n",
        "\n",
        "    peft_config = LoraConfig(\n",
        "        task_type=TaskType.CAUSAL_LM,\n",
        "        r=16,  # LoRA rank\n",
        "        lora_alpha=32,\n",
        "        lora_dropout=0.1,\n",
        "        target_modules=[\n",
        "            \"q_proj\", \"k_proj\", \"v_proj\",\n",
        "            \"o_proj\", \"gate_proj\",\n",
        "            \"down_proj\", \"up_proj\"\n",
        "        ]\n",
        "    )\n",
        "\n",
        "    model = prepare_model_for_kbit_training(model)\n",
        "    model = get_peft_model(model, peft_config)\n",
        "\n",
        "    dataset = load_dataset(\"imdb\")\n",
        "\n",
        "    train_dataset = prepare_dataset(dataset['train'], tokenizer)\n",
        "    eval_dataset = prepare_dataset(dataset['test'], tokenizer)\n",
        "\n",
        "    \n",
        "    data_collator = DataCollatorForLanguageModeling(\n",
        "        tokenizer=tokenizer,\n",
        "        mlm=False\n",
        "    )\n",
        "\n",
        "    training_args = create_memory_optimized_training_args()\n",
        "\n",
        "    trainer = Trainer(\n",
        "        model=model,\n",
        "        args=training_args,\n",
        "        train_dataset=train_dataset,\n",
        "        eval_dataset=eval_dataset,\n",
        "        data_collator=data_collator,\n",
        "        compute_metrics=compute_metrics\n",
        "    )\n",
        "\n",
        "    trainer.train()\n",
        "\n",
        "    trainer.save_model(\"./final_deepseek_imdb_model\")\n",
        "\n",
        "    return trainer"
      ]
    },
    {
      "cell_type": "code",
      "execution_count": null,
      "metadata": {
        "id": "vcy1cugAXUSB"
      },
      "outputs": [],
      "source": [
        "trainer = train_deepseek_on_imdb()"
      ]
    },
    {
      "cell_type": "code",
      "execution_count": null,
      "metadata": {
        "id": "K4y7rS4sXRpH"
      },
      "outputs": [],
      "source": [
        "print(\"Training Loss History:\", trainer.state.log_history)"
      ]
    },
    {
      "cell_type": "code",
      "execution_count": null,
      "metadata": {
        "id": "6GH_LGmvMutL"
      },
      "outputs": [],
      "source": [
        "eval_results = trainer.evaluate()"
      ]
    },
    {
      "cell_type": "code",
      "execution_count": null,
      "metadata": {
        "id": "zZcDs06EMuzc"
      },
      "outputs": [],
      "source": [
        "import matplotlib.pyplot as plt\n",
        "\n",
        "training_losses = [entry['loss'] for entry in trainer.state.log_history if 'loss' in entry]\n",
        "\n",
        "plt.figure(figsize=(10, 5))\n",
        "plt.plot(training_losses)\n",
        "plt.title('Training Loss Over Steps')\n",
        "plt.xlabel('Training Steps')\n",
        "plt.ylabel('Loss')\n",
        "plt.show()"
      ]
    },
    {
      "cell_type": "code",
      "execution_count": null,
      "metadata": {},
      "outputs": [],
      "source": [
        "MODEL_ID = \"deepseek-ai/deepseek-llm-7b-base\"\n",
        "tokenizer = create_efficient_tokenizer(MODEL_ID)\n",
        "dataset = load_dataset(\"imdb\", split=\"train+test\")\n",
        "tokenized_dataset = create_efficient_tokenizer(\n",
        "        dataset,\n",
        "        tokenizer\n",
        "    )\n",
        "\n",
        "train_dataset = tokenized_dataset.select(range(int(len(tokenized_dataset)*0.8)))\n",
        "eval_dataset = tokenized_dataset.select(range(int(len(tokenized_dataset)*0.8), len(tokenized_dataset)))"
      ]
    },
    {
      "cell_type": "code",
      "execution_count": null,
      "metadata": {},
      "outputs": [],
      "source": [
        "test_dataset = eval_dataset  \n",
        "predictions = trainer.predict(test_dataset)\n",
        "\n",
        "logits = predictions.predictions\n",
        "predicted_labels = np.argmax(logits, axis=-1)\n",
        "true_labels = predictions.label_ids\n",
        "\n",
        "from sklearn.metrics import accuracy_score, f1_score, classification_report\n",
        "\n",
        "accuracy = accuracy_score(true_labels, predicted_labels)\n",
        "f1 = f1_score(true_labels, predicted_labels, average='binary')\n",
        "\n",
        "print(f\"Accuracy: {accuracy:.4f}\")\n",
        "print(f\"F1 Score: {f1:.4f}\")"
      ]
    }
  ],
  "metadata": {
    "accelerator": "GPU",
    "colab": {
      "gpuType": "A100",
      "machine_shape": "hm",
      "provenance": []
    },
    "kernelspec": {
      "display_name": "Python 3",
      "name": "python3"
    },
    "language_info": {
      "codemirror_mode": {
        "name": "ipython",
        "version": 3
      },
      "file_extension": ".py",
      "mimetype": "text/x-python",
      "name": "python",
      "nbconvert_exporter": "python",
      "pygments_lexer": "ipython3",
      "version": "3.8.12"
    }
  },
  "nbformat": 4,
  "nbformat_minor": 0
}
