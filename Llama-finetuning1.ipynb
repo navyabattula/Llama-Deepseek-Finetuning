{
  "nbformat": 4,
  "nbformat_minor": 0,
  "metadata": {
    "colab": {
      "provenance": [],
      "machine_shape": "hm",
      "gpuType": "A100"
    },
    "kernelspec": {
      "name": "python3",
      "display_name": "Python 3"
    },
    "language_info": {
      "name": "python"
    },
    "accelerator": "GPU"
  },
  "cells": [
    {
      "cell_type": "code",
      "execution_count": null,
      "metadata": {
        "id": "bHB4NJMzqHan"
      },
      "outputs": [],
      "source": [
        "import os\n",
        "import torch\n",
        "import numpy as np\n",
        "from datasets import load_dataset\n",
        "from transformers import (\n",
        "    AutoModelForCausalLM,\n",
        "    AutoTokenizer,\n",
        "    BitsAndBytesConfig,\n",
        "    TrainingArguments,\n",
        "    Trainer,\n",
        "    DataCollatorForLanguageModeling\n",
        ")\n",
        "from peft import (\n",
        "    LoraConfig,\n",
        "    get_peft_model,\n",
        "    prepare_model_for_kbit_training,\n",
        "    TaskType\n",
        ")\n",
        "from sklearn.metrics import precision_recall_fscore_support, classification_report"
      ]
    },
    {
      "cell_type": "code",
      "source": [
        "!pip install -q transformers datasets accelerate peft bitsandbytes sentencepiece huggingface_hub wandb scikit-learn lion-pytorch"
      ],
      "metadata": {
        "id": "IrHMoMMVq2As"
      },
      "execution_count": null,
      "outputs": []
    },
    {
      "cell_type": "code",
      "source": [
        "os.environ[\"PYTORCH_CUDA_ALLOC_CONF\"] = \"expandable_segments:True,max_split_size_mb:128\"\n",
        "torch.backends.cudnn.benchmark = False\n",
        "torch.backends.cudnn.deterministic = True"
      ],
      "metadata": {
        "id": "QyPjvK31qjv5"
      },
      "execution_count": null,
      "outputs": []
    },
    {
      "cell_type": "code",
      "source": [
        "def optimize_memory():\n",
        "    \"\"\"\n",
        "    Optimize GPU memory and provide memory utilization tracking\n",
        "    \"\"\"\n",
        "    # Clear CUDA cache\n",
        "    torch.cuda.empty_cache()\n",
        "    torch.cuda.reset_peak_memory_stats()\n",
        "\n",
        "    # Set lower precision for reduced memory footprint\n",
        "    torch.set_float32_matmul_precision('medium')\n",
        "\n",
        "    # Memory tracking function with safe import\n",
        "    def print_gpu_utilization():\n",
        "        try:\n",
        "            import pynvml\n",
        "\n",
        "            # Initialize NVML\n",
        "            pynvml.nvmlInit()\n",
        "\n",
        "            try:\n",
        "                # Get the first GPU device\n",
        "                handle = pynvml.nvmlDeviceGetHandleByIndex(0)\n",
        "\n",
        "                # Retrieve memory information\n",
        "                info = pynvml.nvmlDeviceGetMemoryInfo(handle)\n",
        "\n",
        "                # Print memory usage\n",
        "                print(f\"GPU Total Memory: {info.total / 1024**2:.2f} MB\")\n",
        "                print(f\"GPU Used Memory: {info.used / 1024**2:.2f} MB\")\n",
        "                print(f\"GPU Free Memory: {info.free / 1024**2:.2f} MB\")\n",
        "\n",
        "            except Exception as device_error:\n",
        "                print(f\"Error getting GPU memory info: {device_error}\")\n",
        "\n",
        "            finally:\n",
        "                # Always shutdown NVML\n",
        "                pynvml.nvmlShutdown()\n",
        "\n",
        "        except ImportError:\n",
        "            # Fallback to PyTorch memory reporting if NVML is not available\n",
        "            print(\"NVML not available. Using PyTorch memory tracking.\")\n",
        "            print(f\"Allocated GPU Memory: {torch.cuda.memory_allocated() / 1024**2:.2f} MB\")\n",
        "            print(f\"Cached GPU Memory: {torch.cuda.memory_reserved() / 1024**2:.2f} MB\")\n",
        "\n",
        "    # Print GPU utilization\n",
        "    print_gpu_utilization()\n",
        "\n",
        "    # Additional memory optimization settings\n",
        "    os.environ[\"PYTORCH_CUDA_ALLOC_CONF\"] = \"expandable_segments:True,max_split_size_mb:128\""
      ],
      "metadata": {
        "id": "YkI9d8mRrKFD"
      },
      "execution_count": null,
      "outputs": []
    },
    {
      "cell_type": "code",
      "source": [
        "def load_model_with_minimal_memory(model_id):\n",
        "    # Aggressive quantization configuration\n",
        "    bnb_config = BitsAndBytesConfig(\n",
        "        load_in_4bit=True,\n",
        "        bnb_4bit_quant_type=\"nf4\",\n",
        "        bnb_4bit_compute_dtype=torch.bfloat16,\n",
        "        bnb_4bit_use_double_quant=True,\n",
        "    )\n",
        "\n",
        "    # Load model with minimal memory footprint\n",
        "    model = AutoModelForCausalLM.from_pretrained(\n",
        "        model_id,\n",
        "        quantization_config=bnb_config,\n",
        "        device_map=\"auto\",  # Intelligent device mapping\n",
        "        torch_dtype=torch.bfloat16,\n",
        "        low_cpu_mem_usage=True,\n",
        "        attn_implementation=\"flash_attention_2\",  # Most memory-efficient attention\n",
        "        use_cache=False\n",
        "    )\n",
        "\n",
        "    return model"
      ],
      "metadata": {
        "id": "RuX58bG2rKJL"
      },
      "execution_count": null,
      "outputs": []
    },
    {
      "cell_type": "code",
      "source": [
        "def create_efficient_tokenizer(model_id):\n",
        "    tokenizer = AutoTokenizer.from_pretrained(\n",
        "        model_id,\n",
        "        use_fast=True,\n",
        "        add_eos_token=True,\n",
        "        add_bos_token=True\n",
        "    )\n",
        "\n",
        "    # Set padding and truncation strategies\n",
        "    tokenizer.pad_token = tokenizer.eos_token\n",
        "    tokenizer.padding_side = \"right\"\n",
        "\n",
        "    return tokenizer"
      ],
      "metadata": {
        "id": "WjR0_jYurKNG"
      },
      "execution_count": null,
      "outputs": []
    },
    {
      "cell_type": "code",
      "source": [
        "def create_efficient_dataset(dataset, tokenizer, max_length=512):\n",
        "    def tokenize_function(examples):\n",
        "        return tokenizer(\n",
        "            examples['text'],\n",
        "            truncation=True,\n",
        "            padding='max_length',\n",
        "            max_length=max_length,\n",
        "            return_tensors='pt'\n",
        "        )\n",
        "\n",
        "    # Use streaming for large datasets\n",
        "    dataset = dataset.shuffle(seed=42)\n",
        "    tokenized_dataset = dataset.map(\n",
        "        tokenize_function,\n",
        "        batched=True,\n",
        "        remove_columns=dataset.column_names,\n",
        "        num_proc=4,  # Parallel processing\n",
        "        batch_size=1000\n",
        "    )\n",
        "\n",
        "    return tokenized_dataset"
      ],
      "metadata": {
        "id": "ratmht-erKQo"
      },
      "execution_count": null,
      "outputs": []
    },
    {
      "cell_type": "code",
      "source": [
        "\n",
        "# Memory-Aware Training Arguments\n",
        "def create_memory_optimized_training_args():\n",
        "    return TrainingArguments(\n",
        "        output_dir=\"./llama2_finetune\",\n",
        "\n",
        "        # Extreme Memory Optimization\n",
        "        per_device_train_batch_size=4,  # Minimal batch size\n",
        "        gradient_accumulation_steps=250,  # Simulate larger batch\n",
        "        gradient_checkpointing=True,\n",
        "\n",
        "        # Learning Rate and Optimization\n",
        "        learning_rate=1e-4,\n",
        "        weight_decay=0.01,\n",
        "\n",
        "        # Training Constraints\n",
        "        max_grad_norm=0.3,\n",
        "        max_steps=50,\n",
        "\n",
        "        # Memory and Precision Management\n",
        "        fp16=True,\n",
        "        bf16=False,\n",
        "        optim=\"adamw_torch_fused\",  # Most memory-efficient optimizer\n",
        "\n",
        "        # Logging and Evaluation\n",
        "        logging_dir=\"./logs\",\n",
        "        logging_strategy=\"steps\",\n",
        "        logging_steps=10,\n",
        "        evaluation_strategy=\"steps\",\n",
        "        eval_steps=50,\n",
        "\n",
        "        # Save Management\n",
        "        save_total_limit=3,\n",
        "        load_best_model_at_end=True,\n",
        "        metric_for_best_model=\"eval_loss\",\n",
        "\n",
        "        # Resource Management\n",
        "        dataloader_num_workers=4,\n",
        "        dataloader_prefetch_factor=2,\n",
        "    )"
      ],
      "metadata": {
        "id": "pEF1kbP2rKUY"
      },
      "execution_count": null,
      "outputs": []
    },
    {
      "cell_type": "code",
      "source": [
        "# Uninstall existing packages\n",
        "!pip uninstall flash-attn transformers torch\n",
        "\n",
        "# Install compatible versions\n",
        "!pip install torch torchvision torchaudio"
      ],
      "metadata": {
        "id": "I8IxtXoktOhQ"
      },
      "execution_count": null,
      "outputs": []
    },
    {
      "cell_type": "code",
      "source": [
        "!pip install transformers\n",
        "!pip install flash-attn --no-build-isolation"
      ],
      "metadata": {
        "id": "3_DXDWEYuTW8"
      },
      "execution_count": null,
      "outputs": []
    },
    {
      "cell_type": "code",
      "source": [
        "#Main Training Function\n",
        "def train_with_memory_optimization():\n",
        "    # Initial memory optimization\n",
        "    optimize_memory()\n",
        "\n",
        "    # Model and Tokenizer Setup\n",
        "    MODEL_ID = \"meta-llama/Llama-2-7b-hf\"\n",
        "    model = load_model_with_minimal_memory(MODEL_ID)\n",
        "    tokenizer = create_efficient_tokenizer(MODEL_ID)\n",
        "\n",
        "    # LoRA Configuration for Efficient Fine-Tuning\n",
        "    peft_config = LoraConfig(\n",
        "        task_type=TaskType.CAUSAL_LM,\n",
        "        r=16,  # LoRA rank\n",
        "        lora_alpha=32,\n",
        "        lora_dropout=0.1,\n",
        "        target_modules=[\n",
        "            \"q_proj\", \"k_proj\", \"v_proj\",\n",
        "            \"o_proj\", \"gate_proj\",\n",
        "            \"down_proj\", \"up_proj\"\n",
        "        ]\n",
        "    )\n",
        "\n",
        "    # Prepare model for efficient training\n",
        "    model = prepare_model_for_kbit_training(model)\n",
        "    model = get_peft_model(model, peft_config)\n",
        "\n",
        "    # Load and Preprocess Dataset\n",
        "    dataset = load_dataset(\"imdb\", split=\"train+test\")\n",
        "    tokenized_dataset = create_efficient_dataset(\n",
        "        dataset,\n",
        "        tokenizer\n",
        "    )\n",
        "\n",
        "    # Split dataset\n",
        "    train_dataset = tokenized_dataset.select(range(int(len(tokenized_dataset)*0.8)))\n",
        "    eval_dataset = tokenized_dataset.select(range(int(len(tokenized_dataset)*0.8), len(tokenized_dataset)))\n",
        "\n",
        "    # Training Arguments\n",
        "    training_args = create_memory_optimized_training_args()\n",
        "\n",
        "    # Data Collator\n",
        "    data_collator = DataCollatorForLanguageModeling(\n",
        "        tokenizer=tokenizer,\n",
        "        mlm=False\n",
        "    )\n",
        "\n",
        "    # Custom Metrics Function\n",
        "    def compute_metrics(eval_pred):\n",
        "        logits, labels = eval_pred\n",
        "        preds = np.argmax(logits, axis=-1)\n",
        "\n",
        "        precision, recall, f1, _ = precision_recall_fscore_support(\n",
        "            labels, preds, average='binary'\n",
        "        )\n",
        "\n",
        "        return {\n",
        "            'precision': precision,\n",
        "            'recall': recall,\n",
        "            'f1': f1\n",
        "        }\n",
        "\n",
        "    # Initialize Trainer\n",
        "    trainer = Trainer(\n",
        "        model=model,\n",
        "        args=training_args,\n",
        "        train_dataset=train_dataset,\n",
        "        eval_dataset=eval_dataset,\n",
        "        data_collator=data_collator,\n",
        "        compute_metrics=compute_metrics\n",
        "    )\n",
        "\n",
        "    # Start Training with Memory Monitoring\n",
        "    try:\n",
        "        trainer.train()\n",
        "    except RuntimeError as e:\n",
        "        print(f\"Training interrupted: {e}\")\n",
        "        # Attempt to save partial model\n",
        "        trainer.save_model(\"./partial_model\")\n",
        "        return trainer\n",
        "\n",
        "    # Final Model Save\n",
        "    trainer.save_model(\"./final_llama2_model\")\n",
        "    return trainer\n",
        "\n",
        "# Execute Training"
      ],
      "metadata": {
        "id": "CWAXvCqLrkby"
      },
      "execution_count": null,
      "outputs": []
    },
    {
      "cell_type": "code",
      "source": [
        "trainer = train_with_memory_optimization()"
      ],
      "metadata": {
        "id": "Wjel3zJG09gv"
      },
      "execution_count": null,
      "outputs": []
    },
    {
      "cell_type": "code",
      "source": [
        "# Print training loss history\n",
        "print(\"Training Loss History:\", trainer.state.log_history)"
      ],
      "metadata": {
        "id": "axFXRgs8rkfH"
      },
      "execution_count": null,
      "outputs": []
    },
    {
      "cell_type": "code",
      "source": [
        "import matplotlib.pyplot as plt\n",
        "\n",
        "# Extract training losses\n",
        "training_losses = [entry['loss'] for entry in trainer.state.log_history if 'loss' in entry]\n",
        "\n",
        "plt.figure(figsize=(10, 5))\n",
        "plt.plot(training_losses)\n",
        "plt.title('Training Loss Over Steps')\n",
        "plt.xlabel('Training Steps')\n",
        "plt.ylabel('Loss')\n",
        "plt.show()"
      ],
      "metadata": {
        "id": "7uruhEg5rkkV"
      },
      "execution_count": null,
      "outputs": []
    },
    {
      "cell_type": "code",
      "source": [],
      "metadata": {
        "id": "NHVmbSwArkm0"
      },
      "execution_count": null,
      "outputs": []
    },
    {
      "cell_type": "code",
      "source": [],
      "metadata": {
        "id": "ATWx6eikrkpJ"
      },
      "execution_count": null,
      "outputs": []
    },
    {
      "cell_type": "code",
      "source": [],
      "metadata": {
        "id": "PLjrW1a1rkrw"
      },
      "execution_count": null,
      "outputs": []
    },
    {
      "cell_type": "code",
      "source": [],
      "metadata": {
        "id": "kLAaqvprrkun"
      },
      "execution_count": null,
      "outputs": []
    }
  ]
}